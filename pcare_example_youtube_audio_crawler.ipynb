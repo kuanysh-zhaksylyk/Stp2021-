{
  "nbformat": 4,
  "nbformat_minor": 0,
  "metadata": {
    "colab": {
      "provenance": [],
      "collapsed_sections": [],
      "include_colab_link": true
    },
    "kernelspec": {
      "name": "python3",
      "display_name": "Python 3"
    },
    "language_info": {
      "name": "python"
    }
  },
  "cells": [
    {
      "cell_type": "markdown",
      "metadata": {
        "id": "view-in-github",
        "colab_type": "text"
      },
      "source": [
        "<a href=\"https://colab.research.google.com/github/kuanysh-zhaksylyk/Stp2021-/blob/main/pcare_example_youtube_audio_crawler.ipynb\" target=\"_parent\"><img src=\"https://colab.research.google.com/assets/colab-badge.svg\" alt=\"Open In Colab\"/></a>"
      ]
    },
    {
      "cell_type": "markdown",
      "source": [
        "# YouTube download example"
      ],
      "metadata": {
        "id": "ci4_71sd2SjV"
      }
    },
    {
      "cell_type": "markdown",
      "source": [
        "## Connect GDrive"
      ],
      "metadata": {
        "id": "feW7W0Si2wM-"
      }
    },
    {
      "cell_type": "code",
      "source": [
        "from google.colab import drive\n",
        "\n",
        "drive.mount('/content/gdrive')"
      ],
      "metadata": {
        "id": "7fdUMHQ82yQ8",
        "colab": {
          "base_uri": "https://localhost:8080/"
        },
        "outputId": "df4a3988-f1f8-4a9e-eb7b-a21d7168d65c"
      },
      "execution_count": null,
      "outputs": [
        {
          "output_type": "stream",
          "name": "stdout",
          "text": [
            "Mounted at /content/gdrive\n"
          ]
        }
      ]
    },
    {
      "cell_type": "markdown",
      "source": [
        "## Install dependencies"
      ],
      "metadata": {
        "id": "RoNcExed2hsI"
      }
    },
    {
      "cell_type": "code",
      "source": [
        "!pip install pytube >> /dev/null\n",
        "!pip install youtube_transcript_api >> /dev/null\n",
        "!pip install yt_dlp >> /dev/null\n",
        "!pip install ffmpeg >> /dev/null\n",
        "!pip install youtube-search-python >> /dev/null\n",
        "!pip install pydub"
      ],
      "metadata": {
        "id": "GwNySssdbMJO",
        "colab": {
          "base_uri": "https://localhost:8080/"
        },
        "outputId": "8d7300ad-db31-4c57-ad3b-71770dfdffa8"
      },
      "execution_count": null,
      "outputs": [
        {
          "output_type": "stream",
          "name": "stdout",
          "text": [
            "Looking in indexes: https://pypi.org/simple, https://us-python.pkg.dev/colab-wheels/public/simple/\n",
            "Collecting pydub\n",
            "  Downloading pydub-0.25.1-py2.py3-none-any.whl (32 kB)\n",
            "Installing collected packages: pydub\n",
            "Successfully installed pydub-0.25.1\n"
          ]
        }
      ]
    },
    {
      "cell_type": "markdown",
      "source": [
        "## Import dependencies"
      ],
      "metadata": {
        "id": "9cGxYecz5xdv"
      }
    },
    {
      "cell_type": "code",
      "source": [
        "import yt_dlp\n",
        "from youtubesearchpython import VideosSearch\n",
        "from youtube_transcript_api import YouTubeTranscriptApi\n",
        "from pytube import YouTube\n",
        "from pprint import pprint\n",
        "from pathlib import Path\n",
        "\n",
        "import pydub\n",
        "from os import path\n",
        "import os\n",
        "import glob\n",
        "from glob import glob as glob \n",
        "from pydub import AudioSegment\n",
        "import pandas as pd\n",
        "\n",
        "\n",
        "\n",
        "\n",
        "# Add folders\n",
        "checkContentFolder = os.path.exists(\"gdrive/MyDrive/DataFrame\")\n",
        "checkDownLoadFolder = os.path.exists(\"gdrive/MyDrive/Download\")\n",
        "if not checkContentFolder:\n",
        "  os.mkdir(\"gdrive/MyDrive/DataFrame\")\n",
        "else:\n",
        "  pass\n",
        "if not checkDownLoadFolder:\n",
        "  os.mkdir(\"gdrive/MyDrive/Download\")\n",
        "else:\n",
        "  pass"
      ],
      "metadata": {
        "id": "1aBH6lST27Nt"
      },
      "execution_count": null,
      "outputs": []
    },
    {
      "cell_type": "code",
      "source": [
        "from datetime import datetime"
      ],
      "metadata": {
        "id": "-8O2n76786at"
      },
      "execution_count": null,
      "outputs": []
    },
    {
      "cell_type": "markdown",
      "source": [
        "## Constants"
      ],
      "metadata": {
        "id": "HTLzUw2B6FFS"
      }
    },
    {
      "cell_type": "code",
      "source": [
        "FILES_LIMIT = 2"
      ],
      "metadata": {
        "id": "ihzmOUtE6F2Z"
      },
      "execution_count": null,
      "outputs": []
    },
    {
      "cell_type": "markdown",
      "source": [
        "## Video downloading chunk example"
      ],
      "metadata": {
        "id": "1rUqC0Af7IFI"
      }
    },
    {
      "cell_type": "code",
      "source": [
        "yt_search_res = VideosSearch('Aphasia', limit = FILES_LIMIT).result()"
      ],
      "metadata": {
        "id": "o26G9yak3Vu_"
      },
      "execution_count": null,
      "outputs": []
    },
    {
      "cell_type": "code",
      "source": [
        "yt_search_res"
      ],
      "metadata": {
        "colab": {
          "base_uri": "https://localhost:8080/"
        },
        "id": "9V_9zh4daGq6",
        "outputId": "a79153b8-45f9-4ab3-9d3b-be2809969db9"
      },
      "execution_count": null,
      "outputs": [
        {
          "output_type": "execute_result",
          "data": {
            "text/plain": [
              "{'result': [{'type': 'video',\n",
              "   'id': 'JWC-cVQmEmY',\n",
              "   'title': \"Broca's Aphasia (Non-Fluent Aphasia)\",\n",
              "   'publishedTime': '5 years ago',\n",
              "   'duration': '3:59',\n",
              "   'viewCount': {'text': '1,288,286 views', 'short': '1.2M views'},\n",
              "   'thumbnails': [{'url': 'https://i.ytimg.com/vi/JWC-cVQmEmY/hq720.jpg?sqp=-oaymwE2COgCEMoBSFXyq4qpAygIARUAAIhCGAFwAcABBvABAfgBzgWAAtAFigIMCAAQARhlIFgoPDAP&rs=AOn4CLDpcg2CsRLjUst20JZKi5U1ATUciw',\n",
              "     'width': 360,\n",
              "     'height': 202},\n",
              "    {'url': 'https://i.ytimg.com/vi/JWC-cVQmEmY/hq720.jpg?sqp=-oaymwE2CNAFEJQDSFXyq4qpAygIARUAAIhCGAFwAcABBvABAfgBzgWAAtAFigIMCAAQARhlIFgoPDAP&rs=AOn4CLBObumDpl-l2mt9aytAPq5vuAU2tg',\n",
              "     'width': 720,\n",
              "     'height': 404}],\n",
              "   'richThumbnail': {'url': 'https://i.ytimg.com/an_webp/JWC-cVQmEmY/mqdefault_6s.webp?du=3000&sqp=CMCwlJsG&rs=AOn4CLC0zHMQAacK6w6-yCgbiXf9C3SlRA',\n",
              "    'width': 320,\n",
              "    'height': 180},\n",
              "   'descriptionSnippet': [{'text': \"Stroke survivor Mike Caputo has Broca's \"},\n",
              "    {'text': 'aphasia', 'bold': True},\n",
              "    {'text': '. He shares what it feels like and talks about his '},\n",
              "    {'text': 'aphasia', 'bold': True},\n",
              "    {'text': ' program. Learn more\\xa0...'}],\n",
              "   'channel': {'name': 'tactustherapy',\n",
              "    'id': 'UCArf1aRyQmIMGYRsQ4GoHjw',\n",
              "    'thumbnails': [{'url': 'https://yt3.ggpht.com/ytc/AMLnZu_zbThbbsuzxKADC39P6TuGHmw-90_8av2-cfSL=s68-c-k-c0x00ffffff-no-rj',\n",
              "      'width': 68,\n",
              "      'height': 68}],\n",
              "    'link': 'https://www.youtube.com/channel/UCArf1aRyQmIMGYRsQ4GoHjw'},\n",
              "   'accessibility': {'title': \"Broca's Aphasia (Non-Fluent Aphasia) by tactustherapy 5 years ago 3 minutes, 59 seconds 1,288,286 views\",\n",
              "    'duration': '3 minutes, 59 seconds'},\n",
              "   'link': 'https://www.youtube.com/watch?v=JWC-cVQmEmY',\n",
              "   'shelfTitle': None},\n",
              "  {'type': 'video',\n",
              "   'id': 'oxYh5HDc4UQ',\n",
              "   'title': 'What is Aphasia? A Loss of WORDS Not INTELLECT | Brooks Rehabilitation',\n",
              "   'publishedTime': '3 years ago',\n",
              "   'duration': '3:26',\n",
              "   'viewCount': {'text': '16,223 views', 'short': '16K views'},\n",
              "   'thumbnails': [{'url': 'https://i.ytimg.com/vi/oxYh5HDc4UQ/hq720.jpg?sqp=-oaymwEcCOgCEMoBSFXyq4qpAw4IARUAAIhCGAFwAcABBg==&rs=AOn4CLCDnXglIxkD4xNiYnDTztSbH6VwDQ',\n",
              "     'width': 360,\n",
              "     'height': 202},\n",
              "    {'url': 'https://i.ytimg.com/vi/oxYh5HDc4UQ/hq720.jpg?sqp=-oaymwEcCNAFEJQDSFXyq4qpAw4IARUAAIhCGAFwAcABBg==&rs=AOn4CLAxEr0V8CWlySDCGHsYST2rwV7t5A',\n",
              "     'width': 720,\n",
              "     'height': 404}],\n",
              "   'richThumbnail': {'url': 'https://i.ytimg.com/an_webp/oxYh5HDc4UQ/mqdefault_6s.webp?du=3000&sqp=CMTelJsG&rs=AOn4CLCnf90pDU6FumYOE79qjgHHLwmpZg',\n",
              "    'width': 320,\n",
              "    'height': 180},\n",
              "   'descriptionSnippet': [{'text': 'Aphasia', 'bold': True},\n",
              "    {'text': ' is a loss of words, not intellect. Learn more about '},\n",
              "    {'text': 'Aphasia', 'bold': True},\n",
              "    {'text': ' at https://brooksrehab.org/services/'},\n",
              "    {'text': 'aphasia', 'bold': True},\n",
              "    {'text': '-center/ Visit our\\xa0...'}],\n",
              "   'channel': {'name': 'Brooks Rehabilitation',\n",
              "    'id': 'UCEWd5at9r83fEENXFF6OCog',\n",
              "    'thumbnails': [{'url': 'https://yt3.ggpht.com/ytc/AMLnZu8inb1ntAwqYi9MCMd3Aa2UqXus1INh7wZFalgT4Q=s68-c-k-c0x00ffffff-no-rj',\n",
              "      'width': 68,\n",
              "      'height': 68}],\n",
              "    'link': 'https://www.youtube.com/channel/UCEWd5at9r83fEENXFF6OCog'},\n",
              "   'accessibility': {'title': 'What is Aphasia? A Loss of WORDS Not INTELLECT | Brooks Rehabilitation by Brooks Rehabilitation 3 years ago 3 minutes, 26 seconds 16,223 views',\n",
              "    'duration': '3 minutes, 26 seconds'},\n",
              "   'link': 'https://www.youtube.com/watch?v=oxYh5HDc4UQ',\n",
              "   'shelfTitle': 'From health sources'},\n",
              "  {'type': 'video',\n",
              "   'id': 'ukhPPTi-VmM',\n",
              "   'title': 'What You Need To Know About Aphasia',\n",
              "   'publishedTime': 'Streamed 7 months ago',\n",
              "   'duration': '6:39',\n",
              "   'viewCount': {'text': '674 views', 'short': '674 views'},\n",
              "   'thumbnails': [{'url': 'https://i.ytimg.com/vi/ukhPPTi-VmM/hq720.jpg?sqp=-oaymwEcCOgCEMoBSFXyq4qpAw4IARUAAIhCGAFwAcABBg==&rs=AOn4CLCKGifstjlBwQPwnrqPa7zpPT0OoA',\n",
              "     'width': 360,\n",
              "     'height': 202},\n",
              "    {'url': 'https://i.ytimg.com/vi/ukhPPTi-VmM/hq720.jpg?sqp=-oaymwEcCNAFEJQDSFXyq4qpAw4IARUAAIhCGAFwAcABBg==&rs=AOn4CLATMprGG1Ni5A0GVny4PcYFxaWjfw',\n",
              "     'width': 720,\n",
              "     'height': 404}],\n",
              "   'richThumbnail': {'url': 'https://i.ytimg.com/an_webp/ukhPPTi-VmM/mqdefault_6s.webp?du=3000&sqp=CKvClJsG&rs=AOn4CLDOqZIdwmRfEU3y35MIKWKJdrQTbg',\n",
              "    'width': 320,\n",
              "    'height': 180},\n",
              "   'descriptionSnippet': [{'text': 'Dr. Laura Stein weighs in to discuss '},\n",
              "    {'text': 'aphasia', 'bold': True},\n",
              "    {'text': ' symptoms, causes, and treatments.'}],\n",
              "   'channel': {'name': 'Mount Sinai Health System',\n",
              "    'id': 'UC4ZyUot7ROY6H1kV8_J__kQ',\n",
              "    'thumbnails': [{'url': 'https://yt3.ggpht.com/ytc/AMLnZu-pdITFbFVlWDoV-HuupCmbGrHR4rDW3LVpIH8WqA=s68-c-k-c0x00ffffff-no-rj',\n",
              "      'width': 68,\n",
              "      'height': 68}],\n",
              "    'link': 'https://www.youtube.com/channel/UC4ZyUot7ROY6H1kV8_J__kQ'},\n",
              "   'accessibility': {'title': 'What You Need To Know About Aphasia by Mount Sinai Health System Streamed 7 months ago 6 minutes, 39 seconds 674 views',\n",
              "    'duration': '6 minutes, 39 seconds'},\n",
              "   'link': 'https://www.youtube.com/watch?v=ukhPPTi-VmM',\n",
              "   'shelfTitle': 'From health sources'},\n",
              "  {'type': 'video',\n",
              "   'id': 'yTamrmUTXM0',\n",
              "   'title': 'When Art Speaks: Living after Stroke with Speech Aphasia and Apraxia',\n",
              "   'publishedTime': '5 months ago',\n",
              "   'duration': '5:38',\n",
              "   'viewCount': {'text': '2,082 views', 'short': '2K views'},\n",
              "   'thumbnails': [{'url': 'https://i.ytimg.com/vi/yTamrmUTXM0/hq720.jpg?sqp=-oaymwEcCOgCEMoBSFXyq4qpAw4IARUAAIhCGAFwAcABBg==&rs=AOn4CLD9R-jT4dxCBBsiDJRj7R1TjQ5FSg',\n",
              "     'width': 360,\n",
              "     'height': 202},\n",
              "    {'url': 'https://i.ytimg.com/vi/yTamrmUTXM0/hq720.jpg?sqp=-oaymwEcCNAFEJQDSFXyq4qpAw4IARUAAIhCGAFwAcABBg==&rs=AOn4CLAH2-jlU_L95-C1mCyv1BkITcQJfA',\n",
              "     'width': 720,\n",
              "     'height': 404}],\n",
              "   'richThumbnail': {'url': 'https://i.ytimg.com/an_webp/yTamrmUTXM0/mqdefault_6s.webp?du=3000&sqp=CJXllJsG&rs=AOn4CLA8aIdyvheWQb9etg812cYWeZei_w',\n",
              "    'width': 320,\n",
              "    'height': 180},\n",
              "   'descriptionSnippet': [{'text': 'Swedish patient Deonna Keiser is an artist who is living with the impacts of speech '},\n",
              "    {'text': 'aphasia', 'bold': True},\n",
              "    {'text': ' and apraxia as a result of a stroke.'}],\n",
              "   'channel': {'name': 'Swedish',\n",
              "    'id': 'UCHBWHPYLjjK4C3ycOTsPx7g',\n",
              "    'thumbnails': [{'url': 'https://yt3.ggpht.com/9K1GK7ekvvmei3-Bv5KCX2p6pRdcvwtu8DY1B_ZzlwbKutEXmjfelrRtcbLrrnbN-MEHOoabFg=s68-c-k-c0x00ffffff-no-rj',\n",
              "      'width': 68,\n",
              "      'height': 68}],\n",
              "    'link': 'https://www.youtube.com/channel/UCHBWHPYLjjK4C3ycOTsPx7g'},\n",
              "   'accessibility': {'title': 'When Art Speaks: Living after Stroke with Speech Aphasia and Apraxia by Swedish 5 months ago 5 minutes, 38 seconds 2,082 views',\n",
              "    'duration': '5 minutes, 38 seconds'},\n",
              "   'link': 'https://www.youtube.com/watch?v=yTamrmUTXM0',\n",
              "   'shelfTitle': 'From health sources'}]}"
            ]
          },
          "metadata": {},
          "execution_count": 8
        }
      ]
    },
    {
      "cell_type": "code",
      "source": [
        "#type_af = (yt_search_res['result'][id])\n",
        "\n",
        "id_af = (yt_search_res['result'][id]['id'])\n",
        "title = (yt_search_res['result'][id]['title'])\n",
        "#description = (yt_search_res['result'][id]['descriptionSnippet'][id]['text'])\n",
        "duration = (yt_search_res['result'][id]['duration'])\n",
        "publishedTime = (yt_search_res['result'][id]['publishedTime'])\n",
        "link = yt_search_res['result'][id]['link']\n",
        "print(id_af, title, duration, publishedTime, link, description)"
      ],
      "metadata": {
        "id": "X1Ctsyr73nzW",
        "colab": {
          "base_uri": "https://localhost:8080/"
        },
        "outputId": "5bc319d7-3210-4ec0-c644-fb5677b271df"
      },
      "execution_count": null,
      "outputs": [
        {
          "output_type": "stream",
          "name": "stdout",
          "text": [
            "3oef68YabD0 Fluent Aphasia (Wernicke's Aphasia) 1:31 7 years ago https://www.youtube.com/watch?v=3oef68YabD0 aphasia\n"
          ]
        }
      ]
    },
    {
      "cell_type": "code",
      "source": [
        "#data = pd.Series(id_af)\n",
        "#asr_meta_df = pd.DataFrame(columns=['title_af', 'duration_af'], index = [data])\n",
        "asr_meta_df = pd.DataFrame(columns=['title_af', 'duration_af', 'id_af', 'publishedTime','link'])\n"
      ],
      "metadata": {
        "id": "Wpb5F85AEIDf"
      },
      "execution_count": null,
      "outputs": []
    },
    {
      "cell_type": "code",
      "source": [
        "asr_meta_df"
      ],
      "metadata": {
        "colab": {
          "base_uri": "https://localhost:8080/",
          "height": 49
        },
        "id": "SmKu_0E4EOaA",
        "outputId": "a538cb22-80e7-4f32-99ec-d7bbf5119bbc"
      },
      "execution_count": null,
      "outputs": [
        {
          "output_type": "execute_result",
          "data": {
            "text/plain": [
              "Empty DataFrame\n",
              "Columns: [title_af, duration_af, id_af, publishedTime, link]\n",
              "Index: []"
            ],
            "text/html": [
              "\n",
              "  <div id=\"df-d4109b59-41b6-49f6-ac9e-1799d010e6f5\">\n",
              "    <div class=\"colab-df-container\">\n",
              "      <div>\n",
              "<style scoped>\n",
              "    .dataframe tbody tr th:only-of-type {\n",
              "        vertical-align: middle;\n",
              "    }\n",
              "\n",
              "    .dataframe tbody tr th {\n",
              "        vertical-align: top;\n",
              "    }\n",
              "\n",
              "    .dataframe thead th {\n",
              "        text-align: right;\n",
              "    }\n",
              "</style>\n",
              "<table border=\"1\" class=\"dataframe\">\n",
              "  <thead>\n",
              "    <tr style=\"text-align: right;\">\n",
              "      <th></th>\n",
              "      <th>title_af</th>\n",
              "      <th>duration_af</th>\n",
              "      <th>id_af</th>\n",
              "      <th>publishedTime</th>\n",
              "      <th>link</th>\n",
              "    </tr>\n",
              "  </thead>\n",
              "  <tbody>\n",
              "  </tbody>\n",
              "</table>\n",
              "</div>\n",
              "      <button class=\"colab-df-convert\" onclick=\"convertToInteractive('df-d4109b59-41b6-49f6-ac9e-1799d010e6f5')\"\n",
              "              title=\"Convert this dataframe to an interactive table.\"\n",
              "              style=\"display:none;\">\n",
              "        \n",
              "  <svg xmlns=\"http://www.w3.org/2000/svg\" height=\"24px\"viewBox=\"0 0 24 24\"\n",
              "       width=\"24px\">\n",
              "    <path d=\"M0 0h24v24H0V0z\" fill=\"none\"/>\n",
              "    <path d=\"M18.56 5.44l.94 2.06.94-2.06 2.06-.94-2.06-.94-.94-2.06-.94 2.06-2.06.94zm-11 1L8.5 8.5l.94-2.06 2.06-.94-2.06-.94L8.5 2.5l-.94 2.06-2.06.94zm10 10l.94 2.06.94-2.06 2.06-.94-2.06-.94-.94-2.06-.94 2.06-2.06.94z\"/><path d=\"M17.41 7.96l-1.37-1.37c-.4-.4-.92-.59-1.43-.59-.52 0-1.04.2-1.43.59L10.3 9.45l-7.72 7.72c-.78.78-.78 2.05 0 2.83L4 21.41c.39.39.9.59 1.41.59.51 0 1.02-.2 1.41-.59l7.78-7.78 2.81-2.81c.8-.78.8-2.07 0-2.86zM5.41 20L4 18.59l7.72-7.72 1.47 1.35L5.41 20z\"/>\n",
              "  </svg>\n",
              "      </button>\n",
              "      \n",
              "  <style>\n",
              "    .colab-df-container {\n",
              "      display:flex;\n",
              "      flex-wrap:wrap;\n",
              "      gap: 12px;\n",
              "    }\n",
              "\n",
              "    .colab-df-convert {\n",
              "      background-color: #E8F0FE;\n",
              "      border: none;\n",
              "      border-radius: 50%;\n",
              "      cursor: pointer;\n",
              "      display: none;\n",
              "      fill: #1967D2;\n",
              "      height: 32px;\n",
              "      padding: 0 0 0 0;\n",
              "      width: 32px;\n",
              "    }\n",
              "\n",
              "    .colab-df-convert:hover {\n",
              "      background-color: #E2EBFA;\n",
              "      box-shadow: 0px 1px 2px rgba(60, 64, 67, 0.3), 0px 1px 3px 1px rgba(60, 64, 67, 0.15);\n",
              "      fill: #174EA6;\n",
              "    }\n",
              "\n",
              "    [theme=dark] .colab-df-convert {\n",
              "      background-color: #3B4455;\n",
              "      fill: #D2E3FC;\n",
              "    }\n",
              "\n",
              "    [theme=dark] .colab-df-convert:hover {\n",
              "      background-color: #434B5C;\n",
              "      box-shadow: 0px 1px 3px 1px rgba(0, 0, 0, 0.15);\n",
              "      filter: drop-shadow(0px 1px 2px rgba(0, 0, 0, 0.3));\n",
              "      fill: #FFFFFF;\n",
              "    }\n",
              "  </style>\n",
              "\n",
              "      <script>\n",
              "        const buttonEl =\n",
              "          document.querySelector('#df-d4109b59-41b6-49f6-ac9e-1799d010e6f5 button.colab-df-convert');\n",
              "        buttonEl.style.display =\n",
              "          google.colab.kernel.accessAllowed ? 'block' : 'none';\n",
              "\n",
              "        async function convertToInteractive(key) {\n",
              "          const element = document.querySelector('#df-d4109b59-41b6-49f6-ac9e-1799d010e6f5');\n",
              "          const dataTable =\n",
              "            await google.colab.kernel.invokeFunction('convertToInteractive',\n",
              "                                                     [key], {});\n",
              "          if (!dataTable) return;\n",
              "\n",
              "          const docLinkHtml = 'Like what you see? Visit the ' +\n",
              "            '<a target=\"_blank\" href=https://colab.research.google.com/notebooks/data_table.ipynb>data table notebook</a>'\n",
              "            + ' to learn more about interactive tables.';\n",
              "          element.innerHTML = '';\n",
              "          dataTable['output_type'] = 'display_data';\n",
              "          await google.colab.output.renderOutput(dataTable, element);\n",
              "          const docLink = document.createElement('div');\n",
              "          docLink.innerHTML = docLinkHtml;\n",
              "          element.appendChild(docLink);\n",
              "        }\n",
              "      </script>\n",
              "    </div>\n",
              "  </div>\n",
              "  "
            ]
          },
          "metadata": {},
          "execution_count": 8
        }
      ]
    },
    {
      "cell_type": "code",
      "source": [
        "get_time_stamp = lambda: datetime.now().strftime('%y%m%d-%H%M%S')"
      ],
      "metadata": {
        "id": "_CL0TEd79BfE"
      },
      "execution_count": null,
      "outputs": []
    },
    {
      "cell_type": "code",
      "source": [
        "time_stamp = get_time_stamp()"
      ],
      "metadata": {
        "id": "yOiyjUgn9R-V"
      },
      "execution_count": null,
      "outputs": []
    },
    {
      "cell_type": "code",
      "source": [
        "time_stamp"
      ],
      "metadata": {
        "colab": {
          "base_uri": "https://localhost:8080/",
          "height": 36
        },
        "id": "GySCkvXQ-dpv",
        "outputId": "7e3bd733-37f4-4520-c349-1fb1bc88258a"
      },
      "execution_count": null,
      "outputs": [
        {
          "output_type": "execute_result",
          "data": {
            "text/plain": [
              "'221104-161155'"
            ],
            "application/vnd.google.colaboratory.intrinsic+json": {
              "type": "string"
            }
          },
          "metadata": {},
          "execution_count": 14
        }
      ]
    },
    {
      "cell_type": "code",
      "source": [
        "file_fn = f'yt-aphasia-speech-dataset_{time_stamp}.mp3'\n",
        "audio_start_s = '00'\n",
        "audio_stop_s = '00'"
      ],
      "metadata": {
        "id": "8CfRH-w76MlA"
      },
      "execution_count": null,
      "outputs": []
    },
    {
      "cell_type": "code",
      "source": [
        "downloader_args = f'-ss 00:00:{audio_start_s}.00 -to 00:00:{audio_stop_s}.00 -c copy {file_fn}'\n",
        "print(downloader_args)"
      ],
      "metadata": {
        "colab": {
          "base_uri": "https://localhost:8080/"
        },
        "id": "lWW-iXui52h-",
        "outputId": "1f07f060-f0a3-4616-f866-9061a502168c"
      },
      "execution_count": null,
      "outputs": [
        {
          "output_type": "stream",
          "name": "stdout",
          "text": [
            "-ss 00:00:00.00 -to 00:00:00.00 -c copy yt-aphasia-speech-dataset_221104-161155.mp3\n"
          ]
        }
      ]
    },
    {
      "cell_type": "code",
      "source": [
        "ydl_opts = {\n",
        "  'external_downloader_args': downloader_args,\n",
        "  'format': 'bestaudio',\n",
        "  'outtmpl': 'gdrive/MyDrive/Download/%(title)s.%(ext)s',\n",
        "  } \n",
        "\n",
        "for id in range(FILES_LIMIT):\n",
        "  id_af = (yt_search_res['result'][id]['id'])\n",
        "  title = (yt_search_res['result'][id]['title'])\n",
        "  duration = (yt_search_res['result'][id]['duration'])\n",
        "  current_id = yt_search_res['result'][id]['id']\n",
        "  publishedTime = (yt_search_res['result'][id]['publishedTime'])\n",
        "  link = yt_search_res['result'][id]['link']\n",
        "  description = (yt_search_res['result'][id]['descriptionSnippet'][id]['text'])\n",
        "  file_fn = f'yt-aphasia-speech-dataset_{time_stamp}.mp3'\n",
        "  ydl_opts[ 'external_downloader_args'] = f'-ss 00:00:{audio_start_s}.00 -to 00:00:{audio_stop_s}.00 -c copy {file_fn}'\n",
        "  asr_meta_df.loc[len(asr_meta_df)]= [title, duration, id_af, publishedTime, link] \n",
        "  with (yt_dlp.YoutubeDL(ydl_opts)) as ydl:\n",
        "    ydl.download(['https://youtu.be/' + current_id])"
      ],
      "metadata": {
        "id": "DRTGp_hm3tba",
        "colab": {
          "base_uri": "https://localhost:8080/"
        },
        "outputId": "28ce3314-192e-47cf-a535-ab493c4ea2d5"
      },
      "execution_count": null,
      "outputs": [
        {
          "output_type": "stream",
          "name": "stdout",
          "text": [
            "[youtube] JWC-cVQmEmY: Downloading webpage\n",
            "[youtube] JWC-cVQmEmY: Downloading android player API JSON\n",
            "[info] JWC-cVQmEmY: Downloading 1 format(s): 251\n",
            "[download] Destination: gdrive/MyDrive/Download/Broca's Aphasia (Non-Fluent Aphasia).webm\n",
            "[download] 100% of    2.52MiB in 00:00:00 at 7.36MiB/s   \n",
            "[youtube] oxYh5HDc4UQ: Downloading webpage\n",
            "[youtube] oxYh5HDc4UQ: Downloading android player API JSON\n",
            "[info] oxYh5HDc4UQ: Downloading 1 format(s): 251\n",
            "[download] Destination: gdrive/MyDrive/Download/What is Aphasia？ A Loss of WORDS Not INTELLECT ｜ Brooks Rehabilitation.webm\n",
            "[download] 100% of    3.30MiB in 00:00:00 at 4.87MiB/s   \n"
          ]
        }
      ]
    },
    {
      "cell_type": "code",
      "source": [
        "asr_meta_df2 = asr_meta_df \n",
        "asr_meta_df2\n"
      ],
      "metadata": {
        "colab": {
          "base_uri": "https://localhost:8080/",
          "height": 112
        },
        "id": "e99TvvR1nYhF",
        "outputId": "096e774d-bd08-4d92-87db-d34b9a2b1c69"
      },
      "execution_count": null,
      "outputs": [
        {
          "output_type": "execute_result",
          "data": {
            "text/plain": [
              "                                            title_af duration_af        id_af  \\\n",
              "0               Broca's Aphasia (Non-Fluent Aphasia)        3:59  JWC-cVQmEmY   \n",
              "1  What is Aphasia? A Loss of WORDS Not INTELLECT...        3:26  oxYh5HDc4UQ   \n",
              "\n",
              "  publishedTime                                         link  \n",
              "0   5 years ago  https://www.youtube.com/watch?v=JWC-cVQmEmY  \n",
              "1   3 years ago  https://www.youtube.com/watch?v=oxYh5HDc4UQ  "
            ],
            "text/html": [
              "\n",
              "  <div id=\"df-d44893ee-9a01-4d88-920a-5d2b8d70972d\">\n",
              "    <div class=\"colab-df-container\">\n",
              "      <div>\n",
              "<style scoped>\n",
              "    .dataframe tbody tr th:only-of-type {\n",
              "        vertical-align: middle;\n",
              "    }\n",
              "\n",
              "    .dataframe tbody tr th {\n",
              "        vertical-align: top;\n",
              "    }\n",
              "\n",
              "    .dataframe thead th {\n",
              "        text-align: right;\n",
              "    }\n",
              "</style>\n",
              "<table border=\"1\" class=\"dataframe\">\n",
              "  <thead>\n",
              "    <tr style=\"text-align: right;\">\n",
              "      <th></th>\n",
              "      <th>title_af</th>\n",
              "      <th>duration_af</th>\n",
              "      <th>id_af</th>\n",
              "      <th>publishedTime</th>\n",
              "      <th>link</th>\n",
              "    </tr>\n",
              "  </thead>\n",
              "  <tbody>\n",
              "    <tr>\n",
              "      <th>0</th>\n",
              "      <td>Broca's Aphasia (Non-Fluent Aphasia)</td>\n",
              "      <td>3:59</td>\n",
              "      <td>JWC-cVQmEmY</td>\n",
              "      <td>5 years ago</td>\n",
              "      <td>https://www.youtube.com/watch?v=JWC-cVQmEmY</td>\n",
              "    </tr>\n",
              "    <tr>\n",
              "      <th>1</th>\n",
              "      <td>What is Aphasia? A Loss of WORDS Not INTELLECT...</td>\n",
              "      <td>3:26</td>\n",
              "      <td>oxYh5HDc4UQ</td>\n",
              "      <td>3 years ago</td>\n",
              "      <td>https://www.youtube.com/watch?v=oxYh5HDc4UQ</td>\n",
              "    </tr>\n",
              "  </tbody>\n",
              "</table>\n",
              "</div>\n",
              "      <button class=\"colab-df-convert\" onclick=\"convertToInteractive('df-d44893ee-9a01-4d88-920a-5d2b8d70972d')\"\n",
              "              title=\"Convert this dataframe to an interactive table.\"\n",
              "              style=\"display:none;\">\n",
              "        \n",
              "  <svg xmlns=\"http://www.w3.org/2000/svg\" height=\"24px\"viewBox=\"0 0 24 24\"\n",
              "       width=\"24px\">\n",
              "    <path d=\"M0 0h24v24H0V0z\" fill=\"none\"/>\n",
              "    <path d=\"M18.56 5.44l.94 2.06.94-2.06 2.06-.94-2.06-.94-.94-2.06-.94 2.06-2.06.94zm-11 1L8.5 8.5l.94-2.06 2.06-.94-2.06-.94L8.5 2.5l-.94 2.06-2.06.94zm10 10l.94 2.06.94-2.06 2.06-.94-2.06-.94-.94-2.06-.94 2.06-2.06.94z\"/><path d=\"M17.41 7.96l-1.37-1.37c-.4-.4-.92-.59-1.43-.59-.52 0-1.04.2-1.43.59L10.3 9.45l-7.72 7.72c-.78.78-.78 2.05 0 2.83L4 21.41c.39.39.9.59 1.41.59.51 0 1.02-.2 1.41-.59l7.78-7.78 2.81-2.81c.8-.78.8-2.07 0-2.86zM5.41 20L4 18.59l7.72-7.72 1.47 1.35L5.41 20z\"/>\n",
              "  </svg>\n",
              "      </button>\n",
              "      \n",
              "  <style>\n",
              "    .colab-df-container {\n",
              "      display:flex;\n",
              "      flex-wrap:wrap;\n",
              "      gap: 12px;\n",
              "    }\n",
              "\n",
              "    .colab-df-convert {\n",
              "      background-color: #E8F0FE;\n",
              "      border: none;\n",
              "      border-radius: 50%;\n",
              "      cursor: pointer;\n",
              "      display: none;\n",
              "      fill: #1967D2;\n",
              "      height: 32px;\n",
              "      padding: 0 0 0 0;\n",
              "      width: 32px;\n",
              "    }\n",
              "\n",
              "    .colab-df-convert:hover {\n",
              "      background-color: #E2EBFA;\n",
              "      box-shadow: 0px 1px 2px rgba(60, 64, 67, 0.3), 0px 1px 3px 1px rgba(60, 64, 67, 0.15);\n",
              "      fill: #174EA6;\n",
              "    }\n",
              "\n",
              "    [theme=dark] .colab-df-convert {\n",
              "      background-color: #3B4455;\n",
              "      fill: #D2E3FC;\n",
              "    }\n",
              "\n",
              "    [theme=dark] .colab-df-convert:hover {\n",
              "      background-color: #434B5C;\n",
              "      box-shadow: 0px 1px 3px 1px rgba(0, 0, 0, 0.15);\n",
              "      filter: drop-shadow(0px 1px 2px rgba(0, 0, 0, 0.3));\n",
              "      fill: #FFFFFF;\n",
              "    }\n",
              "  </style>\n",
              "\n",
              "      <script>\n",
              "        const buttonEl =\n",
              "          document.querySelector('#df-d44893ee-9a01-4d88-920a-5d2b8d70972d button.colab-df-convert');\n",
              "        buttonEl.style.display =\n",
              "          google.colab.kernel.accessAllowed ? 'block' : 'none';\n",
              "\n",
              "        async function convertToInteractive(key) {\n",
              "          const element = document.querySelector('#df-d44893ee-9a01-4d88-920a-5d2b8d70972d');\n",
              "          const dataTable =\n",
              "            await google.colab.kernel.invokeFunction('convertToInteractive',\n",
              "                                                     [key], {});\n",
              "          if (!dataTable) return;\n",
              "\n",
              "          const docLinkHtml = 'Like what you see? Visit the ' +\n",
              "            '<a target=\"_blank\" href=https://colab.research.google.com/notebooks/data_table.ipynb>data table notebook</a>'\n",
              "            + ' to learn more about interactive tables.';\n",
              "          element.innerHTML = '';\n",
              "          dataTable['output_type'] = 'display_data';\n",
              "          await google.colab.output.renderOutput(dataTable, element);\n",
              "          const docLink = document.createElement('div');\n",
              "          docLink.innerHTML = docLinkHtml;\n",
              "          element.appendChild(docLink);\n",
              "        }\n",
              "      </script>\n",
              "    </div>\n",
              "  </div>\n",
              "  "
            ]
          },
          "metadata": {},
          "execution_count": 18
        }
      ]
    },
    {
      "cell_type": "code",
      "source": [
        "from os.path import join\n",
        "\n",
        "asr_meta_df2.to_csv(join('gdrive/MyDrive/MetaInfo','meta_info.csv'), sep=';')"
      ],
      "metadata": {
        "id": "3wH3nJaVM4c5"
      },
      "execution_count": null,
      "outputs": []
    },
    {
      "cell_type": "code",
      "source": [
        "mkv_files = glob('gdrive/MyDrive/Download/*.mkv')\n",
        "webm_files = glob('gdrive/MyDrive/Download/*.webm')\n",
        "m4a_files = glob('gdrive/MyDrive/Download/*.m4a')\n",
        "flac_files = glob('gdrive/MyDrive/Download/*.flac')\n",
        "mp4_files = glob('gdrive/MyDrive/Download/*.mp4')\n",
        "mp3_files = glob('gdrive/MyDrive/Download/*.mp3')\n",
        "\n",
        "all_files = [mkv_files, webm_files, m4a_files, flac_files, mp4_files, mp3_files]\n",
        "\n",
        "for files in all_files:\n",
        "  for audio_conv in files:\n",
        "    print(audio_conv)\n",
        "    wav_file = os.path.splitext(audio_conv)[0] + '.wav'\n",
        "    sound = pydub.AudioSegment.from_file(audio_conv)\n",
        "    print(\"Converting: \",audio_conv)\n",
        "    sound.export(wav_file, format=\"wav\")\n",
        "    os.remove(audio_conv)\n",
        "    print(\"Conversion Complete\")"
      ],
      "metadata": {
        "colab": {
          "base_uri": "https://localhost:8080/"
        },
        "id": "A9a9dqaxK3Mc",
        "outputId": "5277377b-d187-4ed2-f6a7-6ee8e78772ca"
      },
      "execution_count": null,
      "outputs": [
        {
          "output_type": "stream",
          "name": "stdout",
          "text": [
            "gdrive/MyDrive/Download/Broca's Aphasia (Non-Fluent Aphasia).webm\n",
            "Converting:  gdrive/MyDrive/Download/Broca's Aphasia (Non-Fluent Aphasia).webm\n",
            "Conversion Complete\n",
            "gdrive/MyDrive/Download/Fluent Aphasia (Wernicke's Aphasia).m4a\n",
            "Converting:  gdrive/MyDrive/Download/Fluent Aphasia (Wernicke's Aphasia).m4a\n",
            "Conversion Complete\n"
          ]
        }
      ]
    }
  ]
}